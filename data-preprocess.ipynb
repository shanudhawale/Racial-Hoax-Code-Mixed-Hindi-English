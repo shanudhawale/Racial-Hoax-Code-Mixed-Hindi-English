{
 "cells": [
  {
   "cell_type": "markdown",
   "id": "d320630d-3c98-4db3-9987-40625d6b19d3",
   "metadata": {},
   "source": [
    "## Data Processing"
   ]
  },
  {
   "cell_type": "code",
   "execution_count": 1,
   "id": "cde1d8df-eba5-43bd-b461-c49c41658dd6",
   "metadata": {},
   "outputs": [],
   "source": [
    "import pandas as pd\n",
    "import krippendorff\n",
    "import nltk\n",
    "from nltk.tokenize import word_tokenize, sent_tokenize\n",
    "import nltk\n",
    "from nltk.tokenize import word_tokenize, sent_tokenize"
   ]
  },
  {
   "cell_type": "code",
   "execution_count": 6,
   "id": "e8db712f-3b04-46fa-839a-e48ca822c1d3",
   "metadata": {},
   "outputs": [],
   "source": [
    "df = pd.read_csv(\"code-mixed-hindi-rh-2300-15-7.csv\")"
   ]
  },
  {
   "cell_type": "code",
   "execution_count": 7,
   "id": "d08520a0-f5ea-4091-8662-a5a7df34fd75",
   "metadata": {},
   "outputs": [
    {
     "data": {
      "text/html": [
       "<div>\n",
       "<style scoped>\n",
       "    .dataframe tbody tr th:only-of-type {\n",
       "        vertical-align: middle;\n",
       "    }\n",
       "\n",
       "    .dataframe tbody tr th {\n",
       "        vertical-align: top;\n",
       "    }\n",
       "\n",
       "    .dataframe thead th {\n",
       "        text-align: right;\n",
       "    }\n",
       "</style>\n",
       "<table border=\"1\" class=\"dataframe\">\n",
       "  <thead>\n",
       "    <tr style=\"text-align: right;\">\n",
       "      <th></th>\n",
       "      <th>clean_text</th>\n",
       "      <th>classification</th>\n",
       "      <th>annotation</th>\n",
       "      <th>agreement</th>\n",
       "    </tr>\n",
       "  </thead>\n",
       "  <tbody>\n",
       "    <tr>\n",
       "      <th>0</th>\n",
       "      <td>secular secular bol bolkar tumlogo ne ishko...</td>\n",
       "      <td>Racial-Hoax</td>\n",
       "      <td>Racial-Hoax</td>\n",
       "      <td>1</td>\n",
       "    </tr>\n",
       "    <tr>\n",
       "      <th>1</th>\n",
       "      <td>Inko aatankwadi ghosit karke goli Mar deni cha...</td>\n",
       "      <td>Racial-Hoax</td>\n",
       "      <td>Racial-Hoax</td>\n",
       "      <td>1</td>\n",
       "    </tr>\n",
       "    <tr>\n",
       "      <th>2</th>\n",
       "      <td>Yeh Jo Na jisse Fatima Naam Ki Ladki Hai sali ...</td>\n",
       "      <td>Racial-Hoax</td>\n",
       "      <td>Racial-Hoax</td>\n",
       "      <td>1</td>\n",
       "    </tr>\n",
       "    <tr>\n",
       "      <th>3</th>\n",
       "      <td>Aaj bhi rajusthan key Kai geon hi jaha pura ge...</td>\n",
       "      <td>Non Racial-Hoax</td>\n",
       "      <td>Non Racial-Hoax</td>\n",
       "      <td>1</td>\n",
       "    </tr>\n",
       "    <tr>\n",
       "      <th>4</th>\n",
       "      <td>Sir I support you shi bol rhe hai sir sadi apn...</td>\n",
       "      <td>Non Racial-Hoax</td>\n",
       "      <td>Non Racial-Hoax</td>\n",
       "      <td>1</td>\n",
       "    </tr>\n",
       "    <tr>\n",
       "      <th>...</th>\n",
       "      <td>...</td>\n",
       "      <td>...</td>\n",
       "      <td>...</td>\n",
       "      <td>...</td>\n",
       "    </tr>\n",
       "    <tr>\n",
       "      <th>2608</th>\n",
       "      <td>Aisa teacher  bachhon ko kya padayega jiski So...</td>\n",
       "      <td>Non Racial-Hoax</td>\n",
       "      <td>Non Racial-Hoax</td>\n",
       "      <td>1</td>\n",
       "    </tr>\n",
       "    <tr>\n",
       "      <th>2609</th>\n",
       "      <td>Modi ji   Modi documentary pr nhi kuch bol diz...</td>\n",
       "      <td>Non Racial-Hoax</td>\n",
       "      <td>Non Racial-Hoax</td>\n",
       "      <td>1</td>\n",
       "    </tr>\n",
       "    <tr>\n",
       "      <th>2610</th>\n",
       "      <td>Mujhe Aaj pata Chala savarn itne bade jaativad...</td>\n",
       "      <td>Racial-Hoax</td>\n",
       "      <td>Racial-Hoax</td>\n",
       "      <td>1</td>\n",
       "    </tr>\n",
       "    <tr>\n",
       "      <th>2611</th>\n",
       "      <td>Aur tumhe ne apne channel ka naam The Lallanto...</td>\n",
       "      <td>Non Racial-Hoax</td>\n",
       "      <td>Non Racial-Hoax</td>\n",
       "      <td>1</td>\n",
       "    </tr>\n",
       "    <tr>\n",
       "      <th>2612</th>\n",
       "      <td>Didi ka baat toh sunega hi  kiu khi raheneka j...</td>\n",
       "      <td>Non Racial-Hoax</td>\n",
       "      <td>Non Racial-Hoax</td>\n",
       "      <td>1</td>\n",
       "    </tr>\n",
       "  </tbody>\n",
       "</table>\n",
       "<p>2613 rows × 4 columns</p>\n",
       "</div>"
      ],
      "text/plain": [
       "                                             clean_text   classification  \\\n",
       "0        secular secular bol bolkar tumlogo ne ishko...      Racial-Hoax   \n",
       "1     Inko aatankwadi ghosit karke goli Mar deni cha...      Racial-Hoax   \n",
       "2     Yeh Jo Na jisse Fatima Naam Ki Ladki Hai sali ...      Racial-Hoax   \n",
       "3     Aaj bhi rajusthan key Kai geon hi jaha pura ge...  Non Racial-Hoax   \n",
       "4     Sir I support you shi bol rhe hai sir sadi apn...  Non Racial-Hoax   \n",
       "...                                                 ...              ...   \n",
       "2608  Aisa teacher  bachhon ko kya padayega jiski So...  Non Racial-Hoax   \n",
       "2609  Modi ji   Modi documentary pr nhi kuch bol diz...  Non Racial-Hoax   \n",
       "2610  Mujhe Aaj pata Chala savarn itne bade jaativad...      Racial-Hoax   \n",
       "2611  Aur tumhe ne apne channel ka naam The Lallanto...  Non Racial-Hoax   \n",
       "2612  Didi ka baat toh sunega hi  kiu khi raheneka j...  Non Racial-Hoax   \n",
       "\n",
       "           annotation  agreement  \n",
       "0         Racial-Hoax          1  \n",
       "1         Racial-Hoax          1  \n",
       "2         Racial-Hoax          1  \n",
       "3     Non Racial-Hoax          1  \n",
       "4     Non Racial-Hoax          1  \n",
       "...               ...        ...  \n",
       "2608  Non Racial-Hoax          1  \n",
       "2609  Non Racial-Hoax          1  \n",
       "2610      Racial-Hoax          1  \n",
       "2611  Non Racial-Hoax          1  \n",
       "2612  Non Racial-Hoax          1  \n",
       "\n",
       "[2613 rows x 4 columns]"
      ]
     },
     "execution_count": 7,
     "metadata": {},
     "output_type": "execute_result"
    }
   ],
   "source": [
    "df"
   ]
  },
  {
   "cell_type": "code",
   "execution_count": 8,
   "id": "3a74a19f-1cfc-4f6e-ac0b-0819cf78ffc2",
   "metadata": {},
   "outputs": [],
   "source": [
    "df = df.drop(columns=['agreement'])"
   ]
  },
  {
   "cell_type": "code",
   "execution_count": 9,
   "id": "18ae5f4c-a619-4a98-b1c6-b92556180f69",
   "metadata": {},
   "outputs": [
    {
     "data": {
      "text/plain": [
       "clean_text        0\n",
       "classification    0\n",
       "annotation        0\n",
       "dtype: int64"
      ]
     },
     "execution_count": 9,
     "metadata": {},
     "output_type": "execute_result"
    }
   ],
   "source": [
    "df.isna().sum()"
   ]
  },
  {
   "cell_type": "code",
   "execution_count": 10,
   "id": "4e36eed9-da63-43a2-a272-237bf4ee23d4",
   "metadata": {},
   "outputs": [
    {
     "data": {
      "text/plain": [
       "0"
      ]
     },
     "execution_count": 10,
     "metadata": {},
     "output_type": "execute_result"
    }
   ],
   "source": [
    "len(df[df['classification'].isnull()])"
   ]
  },
  {
   "cell_type": "code",
   "execution_count": 11,
   "id": "abb50168-cc97-4d3c-a192-7e3a3040188b",
   "metadata": {},
   "outputs": [
    {
     "data": {
      "text/html": [
       "<div>\n",
       "<style scoped>\n",
       "    .dataframe tbody tr th:only-of-type {\n",
       "        vertical-align: middle;\n",
       "    }\n",
       "\n",
       "    .dataframe tbody tr th {\n",
       "        vertical-align: top;\n",
       "    }\n",
       "\n",
       "    .dataframe thead th {\n",
       "        text-align: right;\n",
       "    }\n",
       "</style>\n",
       "<table border=\"1\" class=\"dataframe\">\n",
       "  <thead>\n",
       "    <tr style=\"text-align: right;\">\n",
       "      <th></th>\n",
       "      <th>clean_text</th>\n",
       "      <th>classification</th>\n",
       "      <th>annotation</th>\n",
       "    </tr>\n",
       "  </thead>\n",
       "  <tbody>\n",
       "  </tbody>\n",
       "</table>\n",
       "</div>"
      ],
      "text/plain": [
       "Empty DataFrame\n",
       "Columns: [clean_text, classification, annotation]\n",
       "Index: []"
      ]
     },
     "execution_count": 11,
     "metadata": {},
     "output_type": "execute_result"
    }
   ],
   "source": [
    "df[df['annotation'].isnull()]"
   ]
  },
  {
   "cell_type": "code",
   "execution_count": 12,
   "id": "ce26ec2a-3f76-49e5-b919-0602af514098",
   "metadata": {},
   "outputs": [],
   "source": [
    "df['annotation_binary'] = df['annotation'].map({'Racial-Hoax': 1, 'Non Racial-Hoax': 0})"
   ]
  },
  {
   "cell_type": "code",
   "execution_count": 13,
   "id": "b0265582-917d-4754-84cf-3d384d0d394b",
   "metadata": {},
   "outputs": [],
   "source": [
    "df['classification_binary'] = df['classification'].map({'Racial-Hoax': 1, 'Non Racial-Hoax': 0})"
   ]
  },
  {
   "cell_type": "code",
   "execution_count": 14,
   "id": "64348cf2-75cf-43a4-b2d6-20d3abae672c",
   "metadata": {},
   "outputs": [
    {
     "data": {
      "text/html": [
       "<div>\n",
       "<style scoped>\n",
       "    .dataframe tbody tr th:only-of-type {\n",
       "        vertical-align: middle;\n",
       "    }\n",
       "\n",
       "    .dataframe tbody tr th {\n",
       "        vertical-align: top;\n",
       "    }\n",
       "\n",
       "    .dataframe thead th {\n",
       "        text-align: right;\n",
       "    }\n",
       "</style>\n",
       "<table border=\"1\" class=\"dataframe\">\n",
       "  <thead>\n",
       "    <tr style=\"text-align: right;\">\n",
       "      <th></th>\n",
       "      <th>clean_text</th>\n",
       "      <th>classification</th>\n",
       "      <th>annotation</th>\n",
       "      <th>annotation_binary</th>\n",
       "      <th>classification_binary</th>\n",
       "    </tr>\n",
       "  </thead>\n",
       "  <tbody>\n",
       "    <tr>\n",
       "      <th>0</th>\n",
       "      <td>secular secular bol bolkar tumlogo ne ishko...</td>\n",
       "      <td>Racial-Hoax</td>\n",
       "      <td>Racial-Hoax</td>\n",
       "      <td>1</td>\n",
       "      <td>1</td>\n",
       "    </tr>\n",
       "    <tr>\n",
       "      <th>1</th>\n",
       "      <td>Inko aatankwadi ghosit karke goli Mar deni cha...</td>\n",
       "      <td>Racial-Hoax</td>\n",
       "      <td>Racial-Hoax</td>\n",
       "      <td>1</td>\n",
       "      <td>1</td>\n",
       "    </tr>\n",
       "    <tr>\n",
       "      <th>2</th>\n",
       "      <td>Yeh Jo Na jisse Fatima Naam Ki Ladki Hai sali ...</td>\n",
       "      <td>Racial-Hoax</td>\n",
       "      <td>Racial-Hoax</td>\n",
       "      <td>1</td>\n",
       "      <td>1</td>\n",
       "    </tr>\n",
       "    <tr>\n",
       "      <th>3</th>\n",
       "      <td>Aaj bhi rajusthan key Kai geon hi jaha pura ge...</td>\n",
       "      <td>Non Racial-Hoax</td>\n",
       "      <td>Non Racial-Hoax</td>\n",
       "      <td>0</td>\n",
       "      <td>0</td>\n",
       "    </tr>\n",
       "    <tr>\n",
       "      <th>4</th>\n",
       "      <td>Sir I support you shi bol rhe hai sir sadi apn...</td>\n",
       "      <td>Non Racial-Hoax</td>\n",
       "      <td>Non Racial-Hoax</td>\n",
       "      <td>0</td>\n",
       "      <td>0</td>\n",
       "    </tr>\n",
       "    <tr>\n",
       "      <th>...</th>\n",
       "      <td>...</td>\n",
       "      <td>...</td>\n",
       "      <td>...</td>\n",
       "      <td>...</td>\n",
       "      <td>...</td>\n",
       "    </tr>\n",
       "    <tr>\n",
       "      <th>2608</th>\n",
       "      <td>Aisa teacher  bachhon ko kya padayega jiski So...</td>\n",
       "      <td>Non Racial-Hoax</td>\n",
       "      <td>Non Racial-Hoax</td>\n",
       "      <td>0</td>\n",
       "      <td>0</td>\n",
       "    </tr>\n",
       "    <tr>\n",
       "      <th>2609</th>\n",
       "      <td>Modi ji   Modi documentary pr nhi kuch bol diz...</td>\n",
       "      <td>Non Racial-Hoax</td>\n",
       "      <td>Non Racial-Hoax</td>\n",
       "      <td>0</td>\n",
       "      <td>0</td>\n",
       "    </tr>\n",
       "    <tr>\n",
       "      <th>2610</th>\n",
       "      <td>Mujhe Aaj pata Chala savarn itne bade jaativad...</td>\n",
       "      <td>Racial-Hoax</td>\n",
       "      <td>Racial-Hoax</td>\n",
       "      <td>1</td>\n",
       "      <td>1</td>\n",
       "    </tr>\n",
       "    <tr>\n",
       "      <th>2611</th>\n",
       "      <td>Aur tumhe ne apne channel ka naam The Lallanto...</td>\n",
       "      <td>Non Racial-Hoax</td>\n",
       "      <td>Non Racial-Hoax</td>\n",
       "      <td>0</td>\n",
       "      <td>0</td>\n",
       "    </tr>\n",
       "    <tr>\n",
       "      <th>2612</th>\n",
       "      <td>Didi ka baat toh sunega hi  kiu khi raheneka j...</td>\n",
       "      <td>Non Racial-Hoax</td>\n",
       "      <td>Non Racial-Hoax</td>\n",
       "      <td>0</td>\n",
       "      <td>0</td>\n",
       "    </tr>\n",
       "  </tbody>\n",
       "</table>\n",
       "<p>2613 rows × 5 columns</p>\n",
       "</div>"
      ],
      "text/plain": [
       "                                             clean_text   classification  \\\n",
       "0        secular secular bol bolkar tumlogo ne ishko...      Racial-Hoax   \n",
       "1     Inko aatankwadi ghosit karke goli Mar deni cha...      Racial-Hoax   \n",
       "2     Yeh Jo Na jisse Fatima Naam Ki Ladki Hai sali ...      Racial-Hoax   \n",
       "3     Aaj bhi rajusthan key Kai geon hi jaha pura ge...  Non Racial-Hoax   \n",
       "4     Sir I support you shi bol rhe hai sir sadi apn...  Non Racial-Hoax   \n",
       "...                                                 ...              ...   \n",
       "2608  Aisa teacher  bachhon ko kya padayega jiski So...  Non Racial-Hoax   \n",
       "2609  Modi ji   Modi documentary pr nhi kuch bol diz...  Non Racial-Hoax   \n",
       "2610  Mujhe Aaj pata Chala savarn itne bade jaativad...      Racial-Hoax   \n",
       "2611  Aur tumhe ne apne channel ka naam The Lallanto...  Non Racial-Hoax   \n",
       "2612  Didi ka baat toh sunega hi  kiu khi raheneka j...  Non Racial-Hoax   \n",
       "\n",
       "           annotation  annotation_binary  classification_binary  \n",
       "0         Racial-Hoax                  1                      1  \n",
       "1         Racial-Hoax                  1                      1  \n",
       "2         Racial-Hoax                  1                      1  \n",
       "3     Non Racial-Hoax                  0                      0  \n",
       "4     Non Racial-Hoax                  0                      0  \n",
       "...               ...                ...                    ...  \n",
       "2608  Non Racial-Hoax                  0                      0  \n",
       "2609  Non Racial-Hoax                  0                      0  \n",
       "2610      Racial-Hoax                  1                      1  \n",
       "2611  Non Racial-Hoax                  0                      0  \n",
       "2612  Non Racial-Hoax                  0                      0  \n",
       "\n",
       "[2613 rows x 5 columns]"
      ]
     },
     "execution_count": 14,
     "metadata": {},
     "output_type": "execute_result"
    }
   ],
   "source": [
    "df"
   ]
  },
  {
   "cell_type": "markdown",
   "id": "60aa00b4-b547-4fde-9ac7-673192b1ae4a",
   "metadata": {},
   "source": [
    "## Calculating Krippendorff's alpha Value for the code mixed Hindi Racial hoax Dataset"
   ]
  },
  {
   "cell_type": "code",
   "execution_count": 15,
   "id": "8a83ca38-874b-4998-bf3e-4c5564121026",
   "metadata": {},
   "outputs": [],
   "source": [
    "data = df[['annotation_binary', 'classification_binary']].to_numpy()"
   ]
  },
  {
   "cell_type": "code",
   "execution_count": 16,
   "id": "dba72633-2957-4a9e-a732-3eb4634a6bac",
   "metadata": {},
   "outputs": [
    {
     "name": "stdout",
     "output_type": "stream",
     "text": [
      "Krippendorff's alpha: 0.7676892784552846\n"
     ]
    }
   ],
   "source": [
    "# Transpose the data so that each column represents an item, and each row represents an annotator\n",
    "data_t = data.T\n",
    "\n",
    "# Calculate Krippendorff's alpha at nominal\n",
    "alpha = krippendorff.alpha(reliability_data=data_t, level_of_measurement='nominal')\n",
    "\n",
    "print(f\"Krippendorff's alpha: {alpha}\")"
   ]
  },
  {
   "cell_type": "code",
   "execution_count": 17,
   "id": "4589d682-9e0d-4fdd-96dc-6a36edbd3a3e",
   "metadata": {},
   "outputs": [
    {
     "name": "stdout",
     "output_type": "stream",
     "text": [
      "Krippendorff's alpha: 0.7676892784552846\n"
     ]
    }
   ],
   "source": [
    "# Calculate Krippendorff's alpha at interval\n",
    "alpha = krippendorff.alpha(reliability_data=data_t, level_of_measurement='interval')\n",
    "\n",
    "print(f\"Krippendorff's alpha: {alpha}\")"
   ]
  },
  {
   "cell_type": "code",
   "execution_count": 18,
   "id": "3533352b-7b52-4eb6-87c4-6ce49192fced",
   "metadata": {},
   "outputs": [],
   "source": [
    "df = df.drop(columns=['annotation','annotation_binary','classification'])"
   ]
  },
  {
   "cell_type": "code",
   "execution_count": 19,
   "id": "e8464cff-de50-443e-a40d-1e9737bd0802",
   "metadata": {},
   "outputs": [
    {
     "data": {
      "text/html": [
       "<div>\n",
       "<style scoped>\n",
       "    .dataframe tbody tr th:only-of-type {\n",
       "        vertical-align: middle;\n",
       "    }\n",
       "\n",
       "    .dataframe tbody tr th {\n",
       "        vertical-align: top;\n",
       "    }\n",
       "\n",
       "    .dataframe thead th {\n",
       "        text-align: right;\n",
       "    }\n",
       "</style>\n",
       "<table border=\"1\" class=\"dataframe\">\n",
       "  <thead>\n",
       "    <tr style=\"text-align: right;\">\n",
       "      <th></th>\n",
       "      <th>clean_text</th>\n",
       "      <th>classification_binary</th>\n",
       "    </tr>\n",
       "  </thead>\n",
       "  <tbody>\n",
       "    <tr>\n",
       "      <th>0</th>\n",
       "      <td>secular secular bol bolkar tumlogo ne ishko...</td>\n",
       "      <td>1</td>\n",
       "    </tr>\n",
       "    <tr>\n",
       "      <th>1</th>\n",
       "      <td>Inko aatankwadi ghosit karke goli Mar deni cha...</td>\n",
       "      <td>1</td>\n",
       "    </tr>\n",
       "    <tr>\n",
       "      <th>2</th>\n",
       "      <td>Yeh Jo Na jisse Fatima Naam Ki Ladki Hai sali ...</td>\n",
       "      <td>1</td>\n",
       "    </tr>\n",
       "    <tr>\n",
       "      <th>3</th>\n",
       "      <td>Aaj bhi rajusthan key Kai geon hi jaha pura ge...</td>\n",
       "      <td>0</td>\n",
       "    </tr>\n",
       "    <tr>\n",
       "      <th>4</th>\n",
       "      <td>Sir I support you shi bol rhe hai sir sadi apn...</td>\n",
       "      <td>0</td>\n",
       "    </tr>\n",
       "    <tr>\n",
       "      <th>...</th>\n",
       "      <td>...</td>\n",
       "      <td>...</td>\n",
       "    </tr>\n",
       "    <tr>\n",
       "      <th>2608</th>\n",
       "      <td>Aisa teacher  bachhon ko kya padayega jiski So...</td>\n",
       "      <td>0</td>\n",
       "    </tr>\n",
       "    <tr>\n",
       "      <th>2609</th>\n",
       "      <td>Modi ji   Modi documentary pr nhi kuch bol diz...</td>\n",
       "      <td>0</td>\n",
       "    </tr>\n",
       "    <tr>\n",
       "      <th>2610</th>\n",
       "      <td>Mujhe Aaj pata Chala savarn itne bade jaativad...</td>\n",
       "      <td>1</td>\n",
       "    </tr>\n",
       "    <tr>\n",
       "      <th>2611</th>\n",
       "      <td>Aur tumhe ne apne channel ka naam The Lallanto...</td>\n",
       "      <td>0</td>\n",
       "    </tr>\n",
       "    <tr>\n",
       "      <th>2612</th>\n",
       "      <td>Didi ka baat toh sunega hi  kiu khi raheneka j...</td>\n",
       "      <td>0</td>\n",
       "    </tr>\n",
       "  </tbody>\n",
       "</table>\n",
       "<p>2613 rows × 2 columns</p>\n",
       "</div>"
      ],
      "text/plain": [
       "                                             clean_text  classification_binary\n",
       "0        secular secular bol bolkar tumlogo ne ishko...                      1\n",
       "1     Inko aatankwadi ghosit karke goli Mar deni cha...                      1\n",
       "2     Yeh Jo Na jisse Fatima Naam Ki Ladki Hai sali ...                      1\n",
       "3     Aaj bhi rajusthan key Kai geon hi jaha pura ge...                      0\n",
       "4     Sir I support you shi bol rhe hai sir sadi apn...                      0\n",
       "...                                                 ...                    ...\n",
       "2608  Aisa teacher  bachhon ko kya padayega jiski So...                      0\n",
       "2609  Modi ji   Modi documentary pr nhi kuch bol diz...                      0\n",
       "2610  Mujhe Aaj pata Chala savarn itne bade jaativad...                      1\n",
       "2611  Aur tumhe ne apne channel ka naam The Lallanto...                      0\n",
       "2612  Didi ka baat toh sunega hi  kiu khi raheneka j...                      0\n",
       "\n",
       "[2613 rows x 2 columns]"
      ]
     },
     "execution_count": 19,
     "metadata": {},
     "output_type": "execute_result"
    }
   ],
   "source": [
    "df"
   ]
  },
  {
   "cell_type": "code",
   "execution_count": 20,
   "id": "428c6591-e321-4461-92eb-c31c5fefdfea",
   "metadata": {},
   "outputs": [
    {
     "data": {
      "text/plain": [
       "classification_binary\n",
       "0    1898\n",
       "1     715\n",
       "Name: count, dtype: int64"
      ]
     },
     "execution_count": 20,
     "metadata": {},
     "output_type": "execute_result"
    }
   ],
   "source": [
    "df['classification_binary'].value_counts()"
   ]
  },
  {
   "cell_type": "markdown",
   "id": "b1eddd47-7589-494b-abb8-096c733cadce",
   "metadata": {},
   "source": [
    "## Calculating Tokens,Number of Posts, Number of Sentences, Average number of Tokens per post,Average number of sentences per post "
   ]
  },
  {
   "cell_type": "code",
   "execution_count": 21,
   "id": "cb1aff99-6538-4341-a3ac-115b075459a4",
   "metadata": {},
   "outputs": [],
   "source": [
    "##Remove excessive internal whitespace\n",
    "df['clean_text'] = df['clean_text'].str.split().str.join(' ')"
   ]
  },
  {
   "cell_type": "code",
   "execution_count": 22,
   "id": "1bf17477-1635-4906-a293-401d5e0822b8",
   "metadata": {},
   "outputs": [],
   "source": [
    "# Convert to lowercase\n",
    "df['clean_text'] = df['clean_text'].str.lower()"
   ]
  },
  {
   "cell_type": "code",
   "execution_count": 23,
   "id": "1d0f8d54-8b7d-400b-bbc2-7bb10a0a9c3e",
   "metadata": {},
   "outputs": [
    {
     "data": {
      "text/plain": [
       "0       secular secular bol bolkar tumlogo ne ishko is...\n",
       "1       inko aatankwadi ghosit karke goli mar deni cha...\n",
       "2       yeh jo na jisse fatima naam ki ladki hai sali ...\n",
       "3       aaj bhi rajusthan key kai geon hi jaha pura ge...\n",
       "4       sir i support you shi bol rhe hai sir sadi apn...\n",
       "                              ...                        \n",
       "2608    aisa teacher bachhon ko kya padayega jiski soc...\n",
       "2609    modi ji modi documentary pr nhi kuch bol dizye...\n",
       "2610    mujhe aaj pata chala savarn itne bade jaativad...\n",
       "2611    aur tumhe ne apne channel ka naam the lallanto...\n",
       "2612    didi ka baat toh sunega hi kiu khi raheneka jy...\n",
       "Name: clean_text, Length: 2613, dtype: object"
      ]
     },
     "execution_count": 23,
     "metadata": {},
     "output_type": "execute_result"
    }
   ],
   "source": [
    "df['clean_text']"
   ]
  },
  {
   "cell_type": "code",
   "execution_count": 24,
   "id": "bf127e21-4cef-447d-8fa6-0863c1635cfa",
   "metadata": {},
   "outputs": [
    {
     "name": "stdout",
     "output_type": "stream",
     "text": [
      "Rows with duplicate 'clean_text' values:\n",
      "                                             clean_text  classification_binary\n",
      "1671  kya karan h ye jaatiyon ka bolbaala sirf bhara...                      1\n",
      "1673  free ka chandan ghis mere nandan kejrudin or d...                      1\n",
      "1676  kya karan h ye jaatiyon ka bolbaala sirf bhara...                      0\n",
      "1677  free ka chandan ghis mere nandan kejrudin or d...                      1\n"
     ]
    }
   ],
   "source": [
    "duplicate_rows = df[df.duplicated(subset='clean_text', keep=False)]\n",
    "\n",
    "print(\"Rows with duplicate 'clean_text' values:\")\n",
    "print(duplicate_rows)"
   ]
  },
  {
   "cell_type": "code",
   "execution_count": 25,
   "id": "3514c98d-c516-4a1c-937f-e669c4de6f27",
   "metadata": {},
   "outputs": [],
   "source": [
    "df_no_duplicates = df.drop_duplicates(subset='clean_text', keep='first')"
   ]
  },
  {
   "cell_type": "code",
   "execution_count": 26,
   "id": "fc9ed524-a81a-4874-a971-fa226595b886",
   "metadata": {},
   "outputs": [
    {
     "data": {
      "text/plain": [
       "(2611, 2)"
      ]
     },
     "execution_count": 26,
     "metadata": {},
     "output_type": "execute_result"
    }
   ],
   "source": [
    "df_no_duplicates.shape"
   ]
  },
  {
   "cell_type": "code",
   "execution_count": 27,
   "id": "c4eabd1d-7af3-40a0-93df-0318209239c5",
   "metadata": {},
   "outputs": [
    {
     "name": "stderr",
     "output_type": "stream",
     "text": [
      "C:\\Users\\ShanuD\\AppData\\Local\\Temp\\ipykernel_7936\\2895305044.py:1: SettingWithCopyWarning: \n",
      "A value is trying to be set on a copy of a slice from a DataFrame.\n",
      "Try using .loc[row_indexer,col_indexer] = value instead\n",
      "\n",
      "See the caveats in the documentation: https://pandas.pydata.org/pandas-docs/stable/user_guide/indexing.html#returning-a-view-versus-a-copy\n",
      "  df_no_duplicates['clean_text'] = df_no_duplicates['clean_text'].astype(str)\n"
     ]
    }
   ],
   "source": [
    "df_no_duplicates['clean_text'] = df_no_duplicates['clean_text'].astype(str)"
   ]
  },
  {
   "cell_type": "code",
   "execution_count": 28,
   "id": "67c2e819-6113-449b-9b59-b5e3933e434b",
   "metadata": {},
   "outputs": [],
   "source": [
    "def count_tokens(text):\n",
    "    tokens = word_tokenize(text)\n",
    "    return len(tokens)\n",
    "\n",
    "def count_sentences(text):\n",
    "    sentences = sent_tokenize(text)\n",
    "    return len(sentences)"
   ]
  },
  {
   "cell_type": "code",
   "execution_count": 29,
   "id": "ae36b153-9e4c-4225-b4e6-d7809eaf71d0",
   "metadata": {},
   "outputs": [
    {
     "name": "stdout",
     "output_type": "stream",
     "text": [
      "DataFrame with token and sentence counts:\n",
      "(2611, 4)\n",
      "total number of tokens : 79304\n",
      "total number of sentences : 2611\n",
      "Average number of tokens per post: 30.373037150517042\n",
      "Average number of sentences per post: 1.0\n"
     ]
    },
    {
     "name": "stderr",
     "output_type": "stream",
     "text": [
      "C:\\Users\\ShanuD\\AppData\\Local\\Temp\\ipykernel_7936\\2353279441.py:1: SettingWithCopyWarning: \n",
      "A value is trying to be set on a copy of a slice from a DataFrame.\n",
      "Try using .loc[row_indexer,col_indexer] = value instead\n",
      "\n",
      "See the caveats in the documentation: https://pandas.pydata.org/pandas-docs/stable/user_guide/indexing.html#returning-a-view-versus-a-copy\n",
      "  df_no_duplicates['Num_Tokens'] = df_no_duplicates['clean_text'].apply(count_tokens)\n",
      "C:\\Users\\ShanuD\\AppData\\Local\\Temp\\ipykernel_7936\\2353279441.py:2: SettingWithCopyWarning: \n",
      "A value is trying to be set on a copy of a slice from a DataFrame.\n",
      "Try using .loc[row_indexer,col_indexer] = value instead\n",
      "\n",
      "See the caveats in the documentation: https://pandas.pydata.org/pandas-docs/stable/user_guide/indexing.html#returning-a-view-versus-a-copy\n",
      "  df_no_duplicates['Num_Sentences'] = df_no_duplicates['clean_text'].apply(count_sentences)\n"
     ]
    }
   ],
   "source": [
    "df_no_duplicates['Num_Tokens'] = df_no_duplicates['clean_text'].apply(count_tokens)\n",
    "df_no_duplicates['Num_Sentences'] = df_no_duplicates['clean_text'].apply(count_sentences)\n",
    "\n",
    "average_tokens_per_post = df_no_duplicates['Num_Tokens'].mean()\n",
    "average_sentences_per_post = df_no_duplicates['Num_Sentences'].mean()\n",
    "total_tokens = df_no_duplicates['Num_Tokens'].sum()\n",
    "total_senetences = df_no_duplicates['Num_Sentences'].sum()\n",
    "\n",
    "print(\"DataFrame with token and sentence counts:\")\n",
    "print(df_no_duplicates.shape)\n",
    "print(f\"total number of tokens : {total_tokens}\")\n",
    "print(f\"total number of sentences : {total_senetences}\")\n",
    "print(f\"Average number of tokens per post: {average_tokens_per_post}\")\n",
    "print(f\"Average number of sentences per post: {average_sentences_per_post}\")\n"
   ]
  },
  {
   "cell_type": "code",
   "execution_count": 30,
   "id": "9795db3b-d017-4825-abe8-2401a7cc6c5b",
   "metadata": {},
   "outputs": [],
   "source": [
    "def collect_tokens(text):\n",
    "    tokens = word_tokenize(text.lower())  # Convert text to lowercase to avoid case-sensitive duplicates\n",
    "    return tokens\n",
    "\n",
    "# Apply the function to each post and collect all tokens\n",
    "all_tokens = df_no_duplicates['clean_text'].apply(collect_tokens).sum()\n",
    "\n",
    "# Get unique tokens\n",
    "unique_tokens = set(all_tokens)\n",
    "vocab_size = len(unique_tokens)\n"
   ]
  },
  {
   "cell_type": "code",
   "execution_count": 31,
   "id": "873bd629-1fe2-4eca-8890-7bd470a660c5",
   "metadata": {},
   "outputs": [
    {
     "name": "stdout",
     "output_type": "stream",
     "text": [
      "Vocabulary size: 12859\n"
     ]
    }
   ],
   "source": [
    "print(f\"Vocabulary size: {vocab_size}\")"
   ]
  },
  {
   "cell_type": "markdown",
   "id": "c5620aca-0059-4ede-a1e8-181528309d0c",
   "metadata": {},
   "source": [
    "## Stratified Train-test Split "
   ]
  },
  {
   "cell_type": "code",
   "execution_count": 32,
   "id": "00c62bee-db93-46a4-9fd6-8cb5071373a6",
   "metadata": {},
   "outputs": [
    {
     "name": "stdout",
     "output_type": "stream",
     "text": [
      "Training set:\n",
      "                                             clean_text  \\\n",
      "858   matlab ek naale saaf karne wale ka beta jo kab...   \n",
      "823   jo marcuka he unhone vi dekhne wala he yesuko ...   \n",
      "234   kaha gaye hamare thakur pandit bhai jo reserva...   \n",
      "2325  salo sirf mike aur stage pe bolna jante ho ,du...   \n",
      "1575  chalo andhbhakt ye to maan gye ki wo doglapan ...   \n",
      "...                                                 ...   \n",
      "2481  badhiya hai is pehchan mai fayda haikaas mai b...   \n",
      "1574  ye chutiya or ye log apne behno ke nhi hote or...   \n",
      "2126  ye gaddar hai aur hamesha rahenge jo kah lo in...   \n",
      "1281  bu3yk to bhai tu ladta rah aur apne bachcho ko...   \n",
      "957   jaatiwaad se bahut fayeda hai, jati samaj me p...   \n",
      "\n",
      "      classification_binary  Num_Tokens  Num_Sentences  \n",
      "858                       0          48              1  \n",
      "823                       0          25              1  \n",
      "234                       0          22              1  \n",
      "2325                      1          26              1  \n",
      "1575                      0          40              1  \n",
      "...                     ...         ...            ...  \n",
      "2481                      1          17              1  \n",
      "1574                      1          73              1  \n",
      "2126                      1          31              1  \n",
      "1281                      0          16              1  \n",
      "957                       0          61              1  \n",
      "\n",
      "[1566 rows x 4 columns]\n",
      "\n",
      "Validation set:\n",
      "                                             clean_text  \\\n",
      "2612  didi ka baat toh sunega hi kiu khi raheneka jy...   \n",
      "1089  aroop nhi lakshman sahi kah rhe h qanun bikta ...   \n",
      "1789  mukesh kumar dubey haha ab bolny ki bhi kasar ...   \n",
      "2024  mae iski kuch baaton se sehmat hu kuch se nhi ...   \n",
      "468   ek sc category se ias bna ladka sc category ki...   \n",
      "...                                                 ...   \n",
      "941   hinduon ko kab tak banaoge aisi filme dikha ke...   \n",
      "737   bhai bula kyu rhe hm sab khud chalenge sikh bh...   \n",
      "1594  great sir ji apne is jaatiwadi mansikta wale t...   \n",
      "1315  aap jaise dimagi bimaar teacher hi samaj m jah...   \n",
      "273   chuslim etna hi peaceful h to phir pak and afg...   \n",
      "\n",
      "      classification_binary  Num_Tokens  Num_Sentences  \n",
      "2612                      0          46              1  \n",
      "1089                      0          23              1  \n",
      "1789                      1          45              1  \n",
      "2024                      0          53              1  \n",
      "468                       0          19              1  \n",
      "...                     ...         ...            ...  \n",
      "941                       0          24              1  \n",
      "737                       0          43              1  \n",
      "1594                      0          36              1  \n",
      "1315                      1          18              1  \n",
      "273                       1          51              1  \n",
      "\n",
      "[522 rows x 4 columns]\n",
      "\n",
      "Test set:\n",
      "                                             clean_text  \\\n",
      "2139  mein jatiwad k paksh m nahi hu per,adhyapak ma...   \n",
      "2222  abey suar ki paidaish wala maulanakabhie mil g...   \n",
      "2081  ye jo khalistani bol rhe hsalo itni dikkat h h...   \n",
      "513   jati ke name pr arkshan lekr ias bnoge or jati...   \n",
      "853   bhai paise sai nhi hamare mhnat sai hmai seat ...   \n",
      "...                                                 ...   \n",
      "1066  ye sabhi hindusthan ko islamic state bana chah...   \n",
      "2279  kam se kam bo apni baat toh rak raha hai jo us...   \n",
      "329   usi liye sahi se suno zara i think you pak se ...   \n",
      "1386  gandhi takla chor tha jawahar lal nehru kutta ...   \n",
      "2219  patarkar bhai ap apne ladkiyo ko dalit see kar...   \n",
      "\n",
      "      classification_binary  Num_Tokens  Num_Sentences  \n",
      "2139                      0          65              1  \n",
      "2222                      1          16              1  \n",
      "2081                      1          37              1  \n",
      "513                       1          27              1  \n",
      "853                       0          17              1  \n",
      "...                     ...         ...            ...  \n",
      "1066                      1          51              1  \n",
      "2279                      0          23              1  \n",
      "329                       1          50              1  \n",
      "1386                      0          17              1  \n",
      "2219                      0          21              1  \n",
      "\n",
      "[523 rows x 4 columns]\n"
     ]
    }
   ],
   "source": [
    "from sklearn.model_selection import train_test_split\n",
    "\n",
    "\n",
    "train_val, test = train_test_split(df_no_duplicates, test_size=0.2, stratify=df_no_duplicates['classification_binary'], random_state=42)\n",
    "train, val = train_test_split(train_val, test_size=0.25, stratify=train_val['classification_binary'], random_state=42)\n",
    "\n",
    "print(\"Training set:\")\n",
    "print(train)\n",
    "print(\"\\nValidation set:\")\n",
    "print(val)\n",
    "print(\"\\nTest set:\")\n",
    "print(test)"
   ]
  },
  {
   "cell_type": "code",
   "execution_count": 33,
   "id": "61c3a951-013b-4656-a6d1-8b8252977042",
   "metadata": {},
   "outputs": [
    {
     "data": {
      "text/plain": [
       "classification_binary\n",
       "0    1138\n",
       "1     428\n",
       "Name: count, dtype: int64"
      ]
     },
     "execution_count": 33,
     "metadata": {},
     "output_type": "execute_result"
    }
   ],
   "source": [
    "train['classification_binary'].value_counts()"
   ]
  },
  {
   "cell_type": "code",
   "execution_count": 34,
   "id": "80461db4-adae-4b75-9563-e4f52879748c",
   "metadata": {},
   "outputs": [
    {
     "data": {
      "text/plain": [
       "classification_binary\n",
       "0    379\n",
       "1    143\n",
       "Name: count, dtype: int64"
      ]
     },
     "execution_count": 34,
     "metadata": {},
     "output_type": "execute_result"
    }
   ],
   "source": [
    "val['classification_binary'].value_counts()"
   ]
  },
  {
   "cell_type": "code",
   "execution_count": 35,
   "id": "45e05744-7325-4bcf-bfda-854534101cca",
   "metadata": {},
   "outputs": [
    {
     "data": {
      "text/plain": [
       "classification_binary\n",
       "0    380\n",
       "1    143\n",
       "Name: count, dtype: int64"
      ]
     },
     "execution_count": 35,
     "metadata": {},
     "output_type": "execute_result"
    }
   ],
   "source": [
    "test['classification_binary'].value_counts()"
   ]
  },
  {
   "cell_type": "code",
   "execution_count": 32,
   "id": "aa17d0b4-4a90-4454-bcab-42ed129d272c",
   "metadata": {},
   "outputs": [],
   "source": [
    "train.to_csv('data/train.csv', index=False, encoding='utf-8')"
   ]
  },
  {
   "cell_type": "code",
   "execution_count": 33,
   "id": "5c54f61b-335c-4c8e-b904-2aa6a4b0d727",
   "metadata": {},
   "outputs": [],
   "source": [
    "test.to_csv('data/test.csv', index=False, encoding='utf-8')"
   ]
  },
  {
   "cell_type": "code",
   "execution_count": 34,
   "id": "bd5ffa03-f9f0-4e65-8ddd-077da6d44cdf",
   "metadata": {},
   "outputs": [],
   "source": [
    "val.to_csv('data/val.csv', index=False, encoding='utf-8')"
   ]
  },
  {
   "cell_type": "code",
   "execution_count": 36,
   "id": "bb7082d8-ff31-47be-a682-6b696e4a3429",
   "metadata": {},
   "outputs": [
    {
     "data": {
      "text/plain": [
       "74"
      ]
     },
     "execution_count": 36,
     "metadata": {},
     "output_type": "execute_result"
    }
   ],
   "source": [
    "df_no_duplicates['Num_Tokens'].max()"
   ]
  }
 ],
 "metadata": {
  "kernelspec": {
   "display_name": "Python 3 (ipykernel)",
   "language": "python",
   "name": "python3"
  },
  "language_info": {
   "codemirror_mode": {
    "name": "ipython",
    "version": 3
   },
   "file_extension": ".py",
   "mimetype": "text/x-python",
   "name": "python",
   "nbconvert_exporter": "python",
   "pygments_lexer": "ipython3",
   "version": "3.8.18"
  }
 },
 "nbformat": 4,
 "nbformat_minor": 5
}
